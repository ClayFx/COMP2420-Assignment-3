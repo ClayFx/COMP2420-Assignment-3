{
 "cells": [
  {
   "cell_type": "markdown",
   "metadata": {
    "deletable": false,
    "editable": false,
    "nbgrader": {
     "checksum": "fdc40c6f619d87620455aa55ad38db61",
     "grade": false,
     "grade_id": "cell-2e788b64c47c51f0",
     "locked": true,
     "schema_version": 1,
     "solution": false
    }
   },
   "source": [
    "# COMP2420/6420 - Introduction to Data Management, Analysis and Security\n",
    "\n",
    "\n",
    "### Australian National University\n",
    "\n",
    "### College of Engineering and Computer Science"
   ]
  },
  {
   "cell_type": "markdown",
   "metadata": {
    "deletable": false,
    "editable": false,
    "nbgrader": {
     "checksum": "ff29337b01af89773420e21640dc2e13",
     "grade": false,
     "grade_id": "cell-507e9fc64615e9b1",
     "locked": true,
     "schema_version": 1,
     "solution": false
    }
   },
   "source": [
    "Assignment 3 \n",
    "============\n",
    "\n",
    "  \n",
    "|**Maximum marks**         |**100**\n",
    "|--------------------------|--------\n",
    "|  **Weight**              |  **15% of the total marks for the course**\n",
    "|  **Submission deadline** |  **5pm, Friday, May 18**\n",
    "|  **Submission mode**     |  **Electronic, using wattle**\n",
    "|  **Estimated time**      |  **20 hours**\n",
    "|  **Penalty**             |  **100% after the deadline**\n",
    "  \n"
   ]
  },
  {
   "cell_type": "markdown",
   "metadata": {
    "deletable": false,
    "editable": false,
    "nbgrader": {
     "checksum": "ac17bba771e8f168a8e5f5c6d8e2b56c",
     "grade": false,
     "grade_id": "cell-5f1b50ee6d48518b",
     "locked": true,
     "schema_version": 1,
     "solution": false
    }
   },
   "source": [
    "# Submission\n",
    "\n",
    "You need to submit the notebook `Assignment-3.ipynb` as part of your submission on wattle. You need to add your group and student details below. Remember your filename should be exactly as given below. Any changes to file name will mean your file can't be marked by the automarker, resulting in a zero mark.\n",
    "\n",
    "**Note**\n",
    "\n",
    "* For answers requiring free form written text, use the designated cells denoted by `YOUR ANSWER HERE` -- double click on the cell to write inside them.\n",
    "* For all coding questions please write your code after the comment `YOUR CODE HERE`.\n",
    "* After inserting your code **please remove** the following line from each code cell `raise NotImplementedError()`.\n",
    "* In the process of testing your code, you can insert more cells or use print statements for debugging, but when submitting your file remember to remove these cells and calls respectively.\n",
    "* You will be marked on **correctness** and **readability** of your code, if your marker can't understand your code you will get zero marks. \n",
    "* We have marked some questions with a tag **hard** and **slightly hard**, so that you can plan your time accordingly\n",
    "* We advise students to skip Q2.4 at first. You can always come back after finishing all other questions.\n",
    "* Have marked changes in color  <font color='magenta'>magenta from last version</font>, there are few clarifications."
   ]
  },
  {
   "cell_type": "markdown",
   "metadata": {},
   "source": [
    "### Group Name : XXX\n",
    "### Student Id1: uXXXXXXX\n",
    "### Student Id2: uXXXXXXX"
   ]
  },
  {
   "cell_type": "code",
   "execution_count": null,
   "metadata": {
    "deletable": false,
    "editable": false,
    "nbgrader": {
     "checksum": "d256dca8516e0b8df0b2dd9ee9d0b63f",
     "grade": false,
     "grade_id": "cell-7a73997def131f21",
     "locked": true,
     "schema_version": 1,
     "solution": false
    }
   },
   "outputs": [],
   "source": [
    "import json\n",
    "import os\n",
    "import urllib\n",
    "import numpy as np\n",
    "import pandas as pd\n",
    "import seaborn as sns\n",
    "import matplotlib.pyplot as plt\n",
    "from sklearn import datasets\n",
    "from sklearn.linear_model import LinearRegression, LogisticRegression\n",
    "from sklearn.model_selection import train_test_split, cross_val_score\n",
    "from sklearn.neighbors import KNeighborsClassifier, KNeighborsRegressor\n",
    "from scipy.stats import ttest_ind, ttest_rel,ttest_1samp\n",
    "from sklearn.preprocessing import scale\n",
    "plt.style.use('seaborn-notebook')\n",
    "## inline figures\n",
    "%matplotlib inline\n",
    "\n",
    "## just to make sure few warnings are not shown\n",
    "import warnings\n",
    "warnings.filterwarnings(\"ignore\")"
   ]
  },
  {
   "cell_type": "markdown",
   "metadata": {
    "deletable": false,
    "editable": false,
    "nbgrader": {
     "checksum": "8e74be905ae5a2fffe08ca754453a61a",
     "grade": false,
     "grade_id": "cell-f32ba0f9b226ad50",
     "locked": true,
     "schema_version": 1,
     "solution": false
    }
   },
   "source": [
    "#### If you need to put more imports please insert them below"
   ]
  },
  {
   "cell_type": "code",
   "execution_count": null,
   "metadata": {},
   "outputs": [],
   "source": [
    "## Put extra imports here if required by your code"
   ]
  },
  {
   "cell_type": "markdown",
   "metadata": {
    "deletable": false,
    "editable": false,
    "nbgrader": {
     "checksum": "16e51aa97cf0bf7082e50ba21cc4ccbe",
     "grade": false,
     "grade_id": "cell-f1a9482c04e9e206",
     "locked": true,
     "schema_version": 1,
     "solution": false
    }
   },
   "source": [
    "## Part 1 Data Analysis (15 marks)\n",
    "\n",
    "We will use the tweets dataset from [Assignment 2](https://cs.anu.edu.au/courses/comp2420/assessment/02-assignments/ass2/comp2420/assignment-2/). The questions in part 1 are not merely about performing a t-test, you need to think carefully about the type of t-test to run and craft your hypothesis accordingly."
   ]
  },
  {
   "cell_type": "markdown",
   "metadata": {
    "deletable": false,
    "editable": false,
    "nbgrader": {
     "checksum": "1497a89551d4062411922932cc8f2ac9",
     "grade": false,
     "grade_id": "cell-a095c3f227238a1c",
     "locked": true,
     "schema_version": 1,
     "solution": false
    }
   },
   "source": [
    "#### Reading the dataframe"
   ]
  },
  {
   "cell_type": "code",
   "execution_count": null,
   "metadata": {
    "deletable": false,
    "editable": false,
    "nbgrader": {
     "checksum": "c60625c61b49a27a0f7d6e235a47daa9",
     "grade": false,
     "grade_id": "cell-a4c6565bd4858b8f",
     "locked": true,
     "schema_version": 1,
     "solution": false
    }
   },
   "outputs": [],
   "source": [
    "df_tweets = pd.read_hdf(os.path.join('data','yt_tweets_df.h5'))\n",
    "df_tweets.head(5)"
   ]
  },
  {
   "cell_type": "markdown",
   "metadata": {
    "deletable": false,
    "editable": false,
    "nbgrader": {
     "checksum": "d47abc9c769001ae83be04a754cfd0bf",
     "grade": false,
     "grade_id": "cell-39f6ee7419230649",
     "locked": true,
     "schema_version": 1,
     "solution": false
    }
   },
   "source": [
    "#### For question Q1.1, Q1.2 and Q1.3 you need to work on the dataframe `df_tweets`"
   ]
  },
  {
   "cell_type": "markdown",
   "metadata": {
    "deletable": false,
    "editable": false,
    "nbgrader": {
     "checksum": "2e087992b877b83d161498b8280cc63d",
     "grade": false,
     "grade_id": "cell-7bf6afffdf7e5244",
     "locked": true,
     "schema_version": 1,
     "solution": false
    }
   },
   "source": [
    "## Q 1.1\n",
    "### Compare the mean for '#friends' for tweets in language 'en' (lang_tweet='en') against the overall mean value, 612. (5 marks)\n",
    "Give your analysis with the help of a t-test . You will need to explicitly state your hypothesis and p-value being used. In two cells below, write your code to perform test in first cell and in second cell write your hypothesis, p-value and the result from running the tests."
   ]
  },
  {
   "cell_type": "code",
   "execution_count": null,
   "metadata": {
    "deletable": false,
    "nbgrader": {
     "checksum": "de0bc6806d9bb136d9e45fea7afff69c",
     "grade": true,
     "grade_id": "cell-d35e877e0dab5069",
     "locked": false,
     "points": 2.5,
     "schema_version": 1,
     "solution": true
    }
   },
   "outputs": [],
   "source": [
    "# YOUR CODE HERE\n",
    "raise NotImplementedError()"
   ]
  },
  {
   "cell_type": "markdown",
   "metadata": {
    "deletable": false,
    "nbgrader": {
     "checksum": "87a6edcbacbfc682a88c0445e031aadc",
     "grade": true,
     "grade_id": "cell-385020ae21cc65b6",
     "locked": false,
     "points": 2.5,
     "schema_version": 1,
     "solution": true
    }
   },
   "source": [
    "YOUR ANSWER HERE"
   ]
  },
  {
   "cell_type": "markdown",
   "metadata": {
    "deletable": false,
    "editable": false,
    "nbgrader": {
     "checksum": "6c10b0f0d9927eaf21a4a7d9b21b0912",
     "grade": false,
     "grade_id": "cell-ede7ca736534521d",
     "locked": true,
     "schema_version": 1,
     "solution": false
    }
   },
   "source": [
    "## Q 1.2\n",
    "### Compare the mean for '#friends' for tweets tagged with language English (lang_tweet='en') against the tweets tagged with language Japanese (lang_tweet='ja'). (5 marks)\n",
    "Give your analysis with the help of a t-test . You will need to explicitly state your hypothesis and p-value being used. In two cells below, write your code to perform test in first cell and in second cell write your hypothesis, p-value and the result from running the tests."
   ]
  },
  {
   "cell_type": "code",
   "execution_count": null,
   "metadata": {
    "deletable": false,
    "nbgrader": {
     "checksum": "93b5484729ab467899b7ec700bd1f11f",
     "grade": true,
     "grade_id": "cell-b368913b60cefdce",
     "locked": false,
     "points": 2.5,
     "schema_version": 1,
     "solution": true
    }
   },
   "outputs": [],
   "source": [
    "# YOUR CODE HERE\n",
    "raise NotImplementedError()"
   ]
  },
  {
   "cell_type": "markdown",
   "metadata": {
    "deletable": false,
    "nbgrader": {
     "checksum": "a34c47bef81fe7614b67b3a9c4b22129",
     "grade": true,
     "grade_id": "cell-5751c1a805991bce",
     "locked": false,
     "points": 2.5,
     "schema_version": 1,
     "solution": true
    }
   },
   "source": [
    "YOUR ANSWER HERE"
   ]
  },
  {
   "cell_type": "markdown",
   "metadata": {
    "deletable": false,
    "editable": false,
    "nbgrader": {
     "checksum": "c20bfc0df2d095f840d8baab9649d062",
     "grade": false,
     "grade_id": "cell-c0c7631e6edf978c",
     "locked": true,
     "schema_version": 1,
     "solution": false
    }
   },
   "source": [
    "## Q 1.3\n",
    "### Compare the mean for '#followers' against '#friends 'for tweets tagged with language English (lang_tweet='en'). (5 marks)\n",
    "\n",
    "Give your analysis with the help of a t-test . You will need to explicitly state your hypothesis and p-value being used. In two cells below, write your code to perform test in first cell and in second cell write your hypothesis, p-value and the result from running the tests."
   ]
  },
  {
   "cell_type": "code",
   "execution_count": null,
   "metadata": {
    "deletable": false,
    "nbgrader": {
     "checksum": "1ec528f68f5afefd9edc042899350b26",
     "grade": true,
     "grade_id": "cell-1154ab0e7e7d5c02",
     "locked": false,
     "points": 2.5,
     "schema_version": 1,
     "solution": true
    }
   },
   "outputs": [],
   "source": [
    "# YOUR CODE HERE\n",
    "raise NotImplementedError()"
   ]
  },
  {
   "cell_type": "markdown",
   "metadata": {
    "deletable": false,
    "nbgrader": {
     "checksum": "d46516df22f7045128f025a47fddb885",
     "grade": true,
     "grade_id": "cell-39f094d14762c1cc",
     "locked": false,
     "points": 2.5,
     "schema_version": 1,
     "solution": true
    }
   },
   "source": [
    "YOUR ANSWER HERE"
   ]
  },
  {
   "cell_type": "markdown",
   "metadata": {
    "deletable": false,
    "editable": false,
    "nbgrader": {
     "checksum": "1419ec5c426c21895dfbca5f4497b060",
     "grade": false,
     "grade_id": "cell-6f6b9a8e50905fe3",
     "locked": true,
     "schema_version": 1,
     "solution": false
    }
   },
   "source": [
    "## Part 2 Regression (45 marks)\n",
    "\n",
    "We will use the data from before 2018 in the [Sean Lahman's Baseball Database](http://www.seanlahman.com/#sportsdata) to create a metric for picking baseball players using linear regression. This database contains the \"complete batting and pitching statistics from 1871 to 2017, plus fielding statistics, standings, team stats, managerial records, post-season data, and more\". [Documentation provided here]http://www.seanlahman.com/files/database/readme2017.txt).\n",
    "\n",
    "We have extracted the data and derived two dataframes from it. These dataframes have historical offensive (that is, batting statistics) information about various teams and players up to and including the 2017 season.\n",
    "\n",
    "Name of pandas DataFrame  | Name of file\n",
    ":---: |  :---: |\n",
    "stats |  baseball_team_stats_offensive_players.h5\n",
    "playerLS | baseball_players_offensive_stats.h5\n",
    "\n",
    "Description of **stats** DataFrame\n",
    "\n",
    "Field| Description\n",
    ":---: |  :---: |\n",
    "teamID| unique ID for a baseball team\n",
    "yearID| years for which we have stats for\n",
    "w| number of games won out of 162 games played in a season\n",
    "1B| normalized number of singles hit by team\n",
    "2B| normalized number of doubles hit by team\n",
    "3B| normalized number of triples hit by team\n",
    "HR| normalized number of home runs hit by team\n",
    "BB| normalized number of Base on Balls by team\n",
    "\n",
    "Description of **playerLS** DataFrame\n",
    "\n",
    "Field| Description\n",
    ":---: |  :---: |\n",
    "playerID| unique ID for a player\n",
    "POS| position where a player plays in the team\n",
    "minYear| year the player started his career\n",
    "maxYear| year the player played his last game\n",
    "1B| normalized number of singles hit by player\n",
    "2B| normalized number of doubles hit by player\n",
    "3B| normalized number of triples hit by player\n",
    "HR| normalized number of home runs hit by player\n",
    "BB| normalized number of Base on Balls by player\n",
    "nameFirst| first name of the player\n",
    "nameLast| last name of the player\n",
    "salary| median salary of the player\n",
    "\n",
    "***Note:*** You don't need to understand exactly what each of features mean! They can be seen as team/individual statistics for a baseball game."
   ]
  },
  {
   "cell_type": "code",
   "execution_count": null,
   "metadata": {
    "deletable": false,
    "editable": false,
    "nbgrader": {
     "checksum": "56a6510b32ed955d66e3c59d9ba1bf25",
     "grade": false,
     "grade_id": "cell-4b89d496f9b465c9",
     "locked": true,
     "schema_version": 1,
     "solution": false
    }
   },
   "outputs": [],
   "source": [
    "stats = pd.read_hdf(os.path.join('data','baseball_team_stats_offensive_players.h5'))\n",
    "stats.head(5)"
   ]
  },
  {
   "cell_type": "code",
   "execution_count": null,
   "metadata": {
    "deletable": false,
    "editable": false,
    "nbgrader": {
     "checksum": "e58ac0187aa561795c18d30941abb745",
     "grade": false,
     "grade_id": "cell-4944e37eea18ef2c",
     "locked": true,
     "schema_version": 1,
     "solution": false
    }
   },
   "outputs": [],
   "source": [
    "playerLS = pd.read_hdf(os.path.join('data','baseball_players_offensive_stats.h5'))\n",
    "playerLS.head(5)"
   ]
  },
  {
   "cell_type": "markdown",
   "metadata": {
    "deletable": false,
    "editable": false,
    "nbgrader": {
     "checksum": "6c7eef8daad6984448baf83f4fae00cb",
     "grade": false,
     "grade_id": "cell-417ece2123894e75",
     "locked": true,
     "schema_version": 1,
     "solution": false
    }
   },
   "source": [
    "## Q 2.1\n",
    "\n",
    "### Build a simple linear regression model to predict the number of wins for each entry in `stats` dataframe. Your features should be made up of the columns pertaining to normalized singles, double, triples, HR, and BB rates. (10 marks)\n",
    "\n",
    "To decide which of these terms to include, fit your model on data up to year 2002 and select the best performing model for data from 2003 to 2017. Use the fitted model to define a new [sabermetric](https://en.wikipedia.org/wiki/Sabermetrics) summary: which we'll call Offensive Predicted Wins (OPW). Also list the coefficients of your model"
   ]
  },
  {
   "cell_type": "code",
   "execution_count": null,
   "metadata": {
    "deletable": false,
    "nbgrader": {
     "checksum": "4de2e579b1a9f3f05413aaebe955490e",
     "grade": true,
     "grade_id": "cell-52166cdc945361b5",
     "locked": false,
     "points": 8,
     "schema_version": 1,
     "solution": true
    }
   },
   "outputs": [],
   "source": [
    "# YOUR CODE HERE\n",
    "raise NotImplementedError()"
   ]
  },
  {
   "cell_type": "markdown",
   "metadata": {
    "deletable": false,
    "nbgrader": {
     "checksum": "d89c33e30ddafe9ac04d8110337adf03",
     "grade": true,
     "grade_id": "cell-38c3d7e997182347",
     "locked": false,
     "points": 2,
     "schema_version": 1,
     "solution": true
    }
   },
   "source": [
    "#### Write your coeficients here in the following order 1B,2B,3B,HR,BB\n",
    "YOUR ANSWER HERE"
   ]
  },
  {
   "cell_type": "markdown",
   "metadata": {
    "deletable": false,
    "editable": false,
    "nbgrader": {
     "checksum": "945b52c2ae1f862c0a3af2989b6e4af7",
     "grade": false,
     "grade_id": "cell-90df845d4be980dc",
     "locked": true,
     "schema_version": 1,
     "solution": false
    }
   },
   "source": [
    "## Q 2.2\n",
    "\n",
    "### Compute the OPW for each player based on the average rates in the `playerLS` DataFrame (5 marks)\n",
    "\n",
    "Notice that players essentially have the same features as teams, so you can use your model from Q2.1 to perform a prediction. Add this column to the playerLS DataFrame. Call\\Name this colum OPW."
   ]
  },
  {
   "cell_type": "code",
   "execution_count": null,
   "metadata": {
    "deletable": false,
    "nbgrader": {
     "checksum": "9a42098aae4113b3498097b73150b0d7",
     "grade": true,
     "grade_id": "cell-3791a77df18faed0",
     "locked": false,
     "points": 5,
     "schema_version": 1,
     "solution": true
    }
   },
   "outputs": [],
   "source": [
    "# YOUR CODE HERE\n",
    "raise NotImplementedError()"
   ]
  },
  {
   "cell_type": "markdown",
   "metadata": {
    "deletable": false,
    "editable": false,
    "nbgrader": {
     "checksum": "6a5f4a33bd8a26cc446bfe13465fd283",
     "grade": false,
     "grade_id": "cell-16bff38876cafa1b",
     "locked": true,
     "schema_version": 1,
     "solution": false
    }
   },
   "source": [
    "## Q 2.3\n",
    "### Plot and describe the relationship between the median salary (in millions) and the predicted number of wins for a player. (10 marks)\n",
    "Player should be active in the seasons between 2010 and 2012 inclusive, and should have an experience of at least 5 years. "
   ]
  },
  {
   "cell_type": "code",
   "execution_count": null,
   "metadata": {
    "deletable": false,
    "nbgrader": {
     "checksum": "9e95514d29f0f439243a043b45cbc9fd",
     "grade": true,
     "grade_id": "cell-b2ae80ad936a0aa9",
     "locked": false,
     "points": 5,
     "schema_version": 1,
     "solution": true
    }
   },
   "outputs": [],
   "source": [
    "# YOUR CODE HERE\n",
    "raise NotImplementedError()"
   ]
  },
  {
   "cell_type": "markdown",
   "metadata": {
    "deletable": false,
    "nbgrader": {
     "checksum": "4070cf6e1a3a9fc0e473ae1ed3e197de",
     "grade": true,
     "grade_id": "cell-f062d16dbb6d91a5",
     "locked": false,
     "points": 5,
     "schema_version": 1,
     "solution": true
    }
   },
   "source": [
    "####  Write your description here\n",
    "YOUR ANSWER HERE"
   ]
  },
  {
   "cell_type": "markdown",
   "metadata": {
    "deletable": false,
    "editable": false,
    "nbgrader": {
     "checksum": "ba73f19f6bec7da63992a31477c72276",
     "grade": false,
     "grade_id": "cell-aea1be7375d09a37",
     "locked": true,
     "schema_version": 1,
     "solution": false
    }
   },
   "source": [
    "## Q 2.4 \n",
    "#### <font color='magenta'> Pick a team of 9 players such that you have a player for each of the 5 positions: C, 1B, 2B, 3B and SS, and 4 players from position OF</font>. The total budget you have for team salary is 25 million dollars.  Try to optimize for the expected/average OPW. (20 marks)  <font color='red'>hard</font>\n",
    "\n",
    "There are many ways to do this, any reasonable optimization will be worth marks, along with the explanation of why and what are you doing. You should write your explanation in the text block provided"
   ]
  },
  {
   "cell_type": "code",
   "execution_count": null,
   "metadata": {
    "deletable": false,
    "nbgrader": {
     "checksum": "cf756a39ad3ce8f8b9b8b3c5d82181db",
     "grade": true,
     "grade_id": "cell-b333924ed9dbb3f5",
     "locked": false,
     "points": 15,
     "schema_version": 1,
     "solution": true
    }
   },
   "outputs": [],
   "source": [
    "# YOUR CODE HERE\n",
    "raise NotImplementedError()"
   ]
  },
  {
   "cell_type": "markdown",
   "metadata": {
    "deletable": false,
    "nbgrader": {
     "checksum": "5c36b1fbfca9d9390fcc1b699c4e4029",
     "grade": true,
     "grade_id": "cell-e72ccdc28cbe75bc",
     "locked": false,
     "points": 5,
     "schema_version": 1,
     "solution": true
    }
   },
   "source": [
    "#### Your explanation here\n",
    "\n",
    "YOUR ANSWER HERE"
   ]
  },
  {
   "cell_type": "markdown",
   "metadata": {
    "deletable": false,
    "editable": false,
    "nbgrader": {
     "checksum": "c8c4e04c5cb9507cef1c599a57faf9dd",
     "grade": false,
     "grade_id": "cell-ddd8a3ae0ac391a2",
     "locked": true,
     "schema_version": 1,
     "solution": false
    }
   },
   "source": [
    "## Part 3 Classification (20 marks)"
   ]
  },
  {
   "cell_type": "markdown",
   "metadata": {
    "deletable": false,
    "editable": false,
    "nbgrader": {
     "checksum": "5d3ac205be9511803f304728ea4667ae",
     "grade": false,
     "grade_id": "cell-3ff7195267b5d9dc",
     "locked": true,
     "schema_version": 1,
     "solution": false
    }
   },
   "source": [
    "In this example we will use the [ credit card clients ](https://archive.ics.uci.edu/ml/datasets/default+of+credit+card+clients) dataset.\n",
    "\n",
    "This dataset has 24 coulmns. The last column named `DEFAULT` is the target variable which takes binary value, 1 or 0, indicating whether the client will default or not next month. Your task is **create a KNN classifier** for this dataset in Q3. You don't need to write the code to download and read the dataset as we have done this for you. You will need to work on the dataframe 'df_credit'.\n",
    "\n",
    "Description of **df_credit** dataframe\n",
    "\n",
    "Field| Description (type of values it takes)\n",
    ":---: |  :---: |\n",
    "LIMIT_BAL| Amount of the given credit\n",
    "SEX| Gender (1 = male; 2 = female). \n",
    "EDUCATION|  Education (1 = graduate school; 2 = university; 3 = high school; 4 = others)\n",
    "MARRIAGE|  Marital status (1 = married; 2 = single; 3 = others)\n",
    "AGE| Age (year)\n",
    "PAY_0| History of past payment, last month ( -1 = pay duly; 1 = payment delay for one month; 2 = payment delay for two months; . . .; 8 = payment delay for eight months; 9 = payment delay for nine months and above)\n",
    "PAY_2| History of past payment, 2 month back (same as PAY_0)\n",
    "PAY_3| History of past payment, 3 month back (same as PAY_0)\n",
    "PAY_4| History of past payment, 4 month back (same as PAY_0)\n",
    "PAY_5| History of past payment, 5 month back (same as PAY_0)\n",
    "PAY_6| History of past payment, 6 month back (same as PAY_0)\n",
    "BILL_AMT1|  Amount of bill statement, last month\n",
    "BILL_AMT2|  Amount of bill statement, 2 month back\n",
    "BILL_AMT3|  Amount of bill statement, 3 month back\n",
    "BILL_AMT4|  Amount of bill statement, 4 month back\n",
    "BILL_AMT5|  Amount of bill statement, 5 month back\n",
    "BILL_AMT6|  Amount of bill statement, 6 month back\n",
    "PAY_AMT1|  Amount of previous payment, last month\n",
    "PAY_AMT2|  Amount of previous payment, 2 month back\n",
    "PAY_AMT3|  Amount of previous payment, 3 month back\n",
    "PAY_AMT4|  Amount of previous payment, 4 month back\n",
    "PAY_AMT5|  Amount of previous payment, 5 month back\n",
    "PAY_AMT6|  Amount of previous payment, 6 month back\n",
    "DEFAULT|  Will deafult this time (Yes = 1, No = 0)\n",
    "\n",
    "\n",
    "##### You will need to create a training and test set yourself. Refer to the [lab 6](https://cs.anu.edu.au/courses/comp2420/labs/lab-6/) exercise"
   ]
  },
  {
   "cell_type": "code",
   "execution_count": null,
   "metadata": {
    "deletable": false,
    "editable": false,
    "nbgrader": {
     "checksum": "a66b92e75ee651f26f6a9c3a7ab41850",
     "grade": false,
     "grade_id": "cell-c9aee3b9418d805c",
     "locked": true,
     "schema_version": 1,
     "solution": false
    }
   },
   "outputs": [],
   "source": [
    "df_credit = pd.read_hdf(os.path.join('data','df_credit.h5'))\n",
    "df_credit.head()"
   ]
  },
  {
   "cell_type": "markdown",
   "metadata": {
    "deletable": false,
    "editable": false,
    "nbgrader": {
     "checksum": "ac73a611b11c785caa84d4eaf1233753",
     "grade": false,
     "grade_id": "cell-ec6a439d48f49781",
     "locked": true,
     "schema_version": 1,
     "solution": false
    }
   },
   "source": [
    "## Q 3.1\n",
    "#### Write a **ten-fold cross validation** to estimate the optimal value for $k$ for the data set. <font color='magenta'>You need to consider only values between 20 to 50(inclusive) for $k$.</font>(10 marks) \n",
    "\n",
    "##### You will need to create a training and test set yourself. Refer to the [lab 6](https://cs.anu.edu.au/courses/comp2420/labs/lab-6/) exercise\n",
    "\n",
    "***Note*** Keep in mind optimal value of $k$ depends on $d$, where $d$ is the number of features used."
   ]
  },
  {
   "cell_type": "code",
   "execution_count": null,
   "metadata": {
    "deletable": false,
    "nbgrader": {
     "checksum": "c18d99c46a05593581dc9fd64f74293f",
     "grade": true,
     "grade_id": "cell-238c1003bd3cb6f0",
     "locked": false,
     "points": 10,
     "schema_version": 1,
     "solution": true
    }
   },
   "outputs": [],
   "source": [
    "# YOUR CODE HERE\n",
    "raise NotImplementedError()"
   ]
  },
  {
   "cell_type": "markdown",
   "metadata": {
    "deletable": false,
    "editable": false,
    "nbgrader": {
     "checksum": "be5d9db1d6f154e6a287fffac738f3de",
     "grade": false,
     "grade_id": "cell-369deebe8768078e",
     "locked": true,
     "schema_version": 1,
     "solution": false
    }
   },
   "source": [
    "## Q 3.2 \n",
    "#### Create a boxplot showing training scores for the optimal $k$ for each $d$-dimensional subspace with $d$ ranging from one to 23. <font color='magenta'>You need to consider only values between 20 to 50 (inclusive) for $k$.</font> (5 marks)\n",
    "The plot should have the scores on the y-axis and the different dimensions $d$ on the x-axis. You should increase the features incrementally -- this exercise needs you to start from one feature and increase the number of features to 23 incrementally."
   ]
  },
  {
   "cell_type": "code",
   "execution_count": null,
   "metadata": {
    "deletable": false,
    "nbgrader": {
     "checksum": "de7c087733197f735d9bc1c5293ef09a",
     "grade": true,
     "grade_id": "cell-59cf95f91b2d5884",
     "locked": false,
     "points": 5,
     "schema_version": 1,
     "solution": true
    }
   },
   "outputs": [],
   "source": [
    "# YOUR CODE HERE\n",
    "raise NotImplementedError()"
   ]
  },
  {
   "cell_type": "markdown",
   "metadata": {
    "deletable": false,
    "editable": false,
    "nbgrader": {
     "checksum": "619d27bd4ad42f39704dd547c105a97d",
     "grade": false,
     "grade_id": "cell-901d669db9f55c1a",
     "locked": true,
     "schema_version": 1,
     "solution": false
    }
   },
   "source": [
    "## Q 3.3\n",
    "\n",
    "#### Evaluate your performance on test set with best ($k$,$d$) pair. (5 marks)\n",
    "\n",
    "Additionally, write a brief discussion of your conclusions to the questions and tasks in Q3.1 and Q3.2 in 100 words or less each."
   ]
  },
  {
   "cell_type": "code",
   "execution_count": null,
   "metadata": {
    "deletable": false,
    "nbgrader": {
     "checksum": "4e16275563758259ce924d35ed592854",
     "grade": true,
     "grade_id": "cell-09b682d20897827c",
     "locked": false,
     "points": 2.5,
     "schema_version": 1,
     "solution": true
    }
   },
   "outputs": [],
   "source": [
    "# YOUR CODE HERE\n",
    "raise NotImplementedError()"
   ]
  },
  {
   "cell_type": "markdown",
   "metadata": {
    "deletable": false,
    "nbgrader": {
     "checksum": "40ff50ba6132b70f5702472abef5429b",
     "grade": true,
     "grade_id": "cell-4578d93d7e22077d",
     "locked": false,
     "points": 2.5,
     "schema_version": 1,
     "solution": true
    }
   },
   "source": [
    "YOUR ANSWER HERE"
   ]
  },
  {
   "cell_type": "markdown",
   "metadata": {
    "deletable": false,
    "editable": false,
    "nbgrader": {
     "checksum": "607fd04b27140a0093f5ee5f39594db0",
     "grade": false,
     "grade_id": "cell-1616b549d3cc4b35",
     "locked": true,
     "schema_version": 1,
     "solution": false
    }
   },
   "source": [
    "## Part 4 K-Means (10 marks)"
   ]
  },
  {
   "cell_type": "markdown",
   "metadata": {
    "deletable": false,
    "editable": false,
    "nbgrader": {
     "checksum": "fb31ef6d5bc653b43d1b0610a7ce2c27",
     "grade": false,
     "grade_id": "cell-90e26c994e0bf556",
     "locked": true,
     "schema_version": 1,
     "solution": false
    }
   },
   "source": [
    "We will use the standard [breast cancer data set](http://scikit-learn.org/stable/modules/generated/sklearn.datasets.load_breast_cancer.html), from sklearn. We have already loaded the datset for you. $X$ contains all the features."
   ]
  },
  {
   "cell_type": "code",
   "execution_count": null,
   "metadata": {
    "deletable": false,
    "editable": false,
    "nbgrader": {
     "checksum": "a5d0223cd400fd3242fe561ddc39c95a",
     "grade": false,
     "grade_id": "cell-6d42d93e68882109",
     "locked": true,
     "schema_version": 1,
     "solution": false
    }
   },
   "outputs": [],
   "source": [
    "breast_cancer = datasets.load_breast_cancer()\n",
    "X = scale(breast_cancer.data)"
   ]
  },
  {
   "cell_type": "markdown",
   "metadata": {
    "deletable": false,
    "editable": false,
    "nbgrader": {
     "checksum": "e098e3334e36425bb6639ab6dc445deb",
     "grade": false,
     "grade_id": "cell-700abab4e616a887",
     "locked": true,
     "schema_version": 1,
     "solution": false
    }
   },
   "source": [
    "## Q 4.1 \n",
    "#### Implement K-Means clustering for digits data. (10 marks) <font color='red'>slightly hard</font>\n",
    "\n",
    "Complete the function kmeans below.\n",
    " \n",
    "***Note:*** \n",
    "- You are **not allowed** to use any of the **sklearn's pre-implemented algorithms or functions**. \n",
    "- You are **not allowed** to use any pre-implemented **k-means** algorithm from **any module** .\n",
    "- You **should** use the **numpy** library to do matrix operations and calculations.\n",
    "- <font color='magenta'> You **should** use some smart ways for initializations.</font>"
   ]
  },
  {
   "cell_type": "code",
   "execution_count": null,
   "metadata": {
    "deletable": false,
    "nbgrader": {
     "checksum": "c9023d27db106ffa00aa92fe66a85b2f",
     "grade": true,
     "grade_id": "cell-fe0a40c3c81ef91d",
     "locked": false,
     "points": 10,
     "schema_version": 1,
     "solution": true
    }
   },
   "outputs": [],
   "source": [
    "def kmeans(X, n_cluster, random_seed=2, n_init=100):\n",
    "    '''\n",
    "    Function calculates the centroids after performing k-means on the given dataset. \n",
    "    Function returns two values new calculated centers and labels for each datapoint.\n",
    "    If we have n_cluster = 4 then labels from algorithm will correspond to values 0,1,2 and 3\n",
    "    \n",
    "    Args:\n",
    "        X: np.array representing set of input data\n",
    "        n_cluster: number of clusters to use for clustering\n",
    "        random_seed: random seed to use for calling random function in numpy\n",
    "        n_inint: max number of iterations to use for k-means\n",
    "    Returns:\n",
    "        centers: np.array representing the centers for n_clusters\n",
    "        labels: np.array containing a label for each datapoint in X\n",
    "    '''\n",
    "    \n",
    "    centers = np.zeros((n_cluster,X.shape[1]))\n",
    "    labels = np.zeros_like(X)\n",
    "    # YOUR CODE HERE\n",
    "    raise NotImplementedError()\n",
    "    \n",
    "    return centers,labels\n",
    "\n",
    "## change the parameters of the function call to test your implementation\n",
    "centers, labels = kmeans(X,n_cluster=4, random_seed=4, n_init=300)"
   ]
  },
  {
   "cell_type": "code",
   "execution_count": null,
   "metadata": {},
   "outputs": [],
   "source": [
    "## optional :You can write a code to visualize or check your algorithm here\n"
   ]
  },
  {
   "cell_type": "markdown",
   "metadata": {
    "deletable": false,
    "editable": false,
    "nbgrader": {
     "checksum": "fab53d843afdb4590a9bdc5c710e462e",
     "grade": false,
     "grade_id": "cell-76698eb980289c80",
     "locked": true,
     "schema_version": 1,
     "solution": false
    }
   },
   "source": [
    "## Part 5 Decision Trees (10 marks)"
   ]
  },
  {
   "cell_type": "markdown",
   "metadata": {},
   "source": [
    "The following is a small synthetic data set about the weather conditions.  We are\n",
    "going to try and use decision trees to predict whether it will rain or not on the given day.\n",
    "\n",
    "\n",
    "|Temperature| Cloudy| UV Index| Humidity| Rain\n",
    "|---:|--:|--:|--:|--:|\n",
    "|25|No| Low| Low| No \n",
    "|29|No| Low| High| No\n",
    "|26|No| Low| Medium| No\n",
    "|26|No| Medium| Medium| No\n",
    "|27|No| Medium| High| No\n",
    "|28|No| High | High| No\n",
    "|25|No| High |Low| No\n",
    "|29|Yes| Low |Low| Yes\n",
    "|28|No| Medium| High| Yes\n",
    "|28|Yes| Medium| High| Yes\n",
    "|26|No| Low |Low| Yes\n",
    "|27|Yes| Low |High| Yes\n",
    "\n",
    "**Note:**\n",
    "* You can treat temperature as a continuous variable and split on a range of age values.\n",
    "* Attribute selection in the tree uses information gain "
   ]
  },
  {
   "cell_type": "markdown",
   "metadata": {
    "deletable": false,
    "editable": false,
    "nbgrader": {
     "checksum": "9b44bdf1ae62acb081644266577395fd",
     "grade": false,
     "grade_id": "cell-ffd88c19387bedd8",
     "locked": true,
     "schema_version": 1,
     "solution": false
    }
   },
   "source": [
    "## Q 5.1\n",
    "#### What is the initial entropy of Rain?  (2 marks)\n"
   ]
  },
  {
   "cell_type": "markdown",
   "metadata": {
    "deletable": false,
    "nbgrader": {
     "checksum": "76b1ff3c2e714fa30a1dc368dbe63570",
     "grade": true,
     "grade_id": "cell-d35db412731c2d6a",
     "locked": false,
     "points": 2,
     "schema_version": 1,
     "solution": true
    }
   },
   "source": [
    "YOUR ANSWER HERE"
   ]
  },
  {
   "cell_type": "markdown",
   "metadata": {
    "deletable": false,
    "editable": false,
    "nbgrader": {
     "checksum": "5efa30af43b173902056b73e7b539158",
     "grade": false,
     "grade_id": "cell-e2089d98927f298e",
     "locked": true,
     "schema_version": 1,
     "solution": false
    }
   },
   "source": [
    "## Q 5.2\n",
    "#### Which attribute would the decision-tree building algorithm choose at the root of the tree?   (2 marks)\n",
    "\n",
    "Choose one through inspection and explain your reasoning in a sentence. "
   ]
  },
  {
   "cell_type": "markdown",
   "metadata": {
    "deletable": false,
    "nbgrader": {
     "checksum": "acc40041822bf5459c18f6e4553a4530",
     "grade": true,
     "grade_id": "cell-6468810f6c59c07b",
     "locked": false,
     "points": 2,
     "schema_version": 1,
     "solution": true
    }
   },
   "source": [
    "YOUR ANSWER HERE"
   ]
  },
  {
   "cell_type": "markdown",
   "metadata": {
    "deletable": false,
    "editable": false,
    "nbgrader": {
     "checksum": "3091e15da3fa10bc5035834f9ef0c1a0",
     "grade": false,
     "grade_id": "cell-ce4e040dba4e8f1e",
     "locked": true,
     "schema_version": 1,
     "solution": false
    }
   },
   "source": [
    "## Q 5.3\n",
    "#### Calculate and specify the information gain of the attribute you chose to split on in the previous question.  (3 marks)"
   ]
  },
  {
   "cell_type": "markdown",
   "metadata": {
    "deletable": false,
    "nbgrader": {
     "checksum": "1357169a2a652f05982b3dd7d4b577d8",
     "grade": true,
     "grade_id": "cell-b6dd5db337ee2270",
     "locked": false,
     "points": 3,
     "schema_version": 1,
     "solution": true
    }
   },
   "source": [
    "YOUR ANSWER HERE"
   ]
  },
  {
   "cell_type": "markdown",
   "metadata": {
    "deletable": false,
    "editable": false,
    "nbgrader": {
     "checksum": "7b8d42557fcfb76ba5d07344aa5ab6f2",
     "grade": false,
     "grade_id": "cell-d23ce05a8408dbcd",
     "locked": true,
     "schema_version": 1,
     "solution": false
    }
   },
   "source": [
    "## Q 5.4\n",
    "\n",
    "#### Consider a decision tree built from an arbitrary set of data. If the output is binary, what is the maximum training set error for this dataset? Explain your answer. (Please note that this is the error on the same dataset the tree was trained on.  A new test set could have arbitrary errors.) (3 marks) <font color='red'>slightly hard</font>"
   ]
  },
  {
   "cell_type": "markdown",
   "metadata": {
    "deletable": false,
    "nbgrader": {
     "checksum": "3a93d2811aaa1d696d03d59fc1f2df65",
     "grade": true,
     "grade_id": "cell-c422bac72cc05fc9",
     "locked": false,
     "points": 3,
     "schema_version": 1,
     "solution": true
    }
   },
   "source": [
    "YOUR ANSWER HERE"
   ]
  }
 ],
 "metadata": {
  "kernelspec": {
   "display_name": "Python 3",
   "language": "python",
   "name": "python3"
  },
  "language_info": {
   "codemirror_mode": {
    "name": "ipython",
    "version": 3
   },
   "file_extension": ".py",
   "mimetype": "text/x-python",
   "name": "python",
   "nbconvert_exporter": "python",
   "pygments_lexer": "ipython3",
   "version": "3.6.4"
  }
 },
 "nbformat": 4,
 "nbformat_minor": 2
}
